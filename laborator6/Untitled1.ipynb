{
 "cells": [
  {
   "cell_type": "markdown",
   "id": "animal-squad",
   "metadata": {},
   "source": [
    "# Laboratory work nr. 6\n",
    "\n",
    "### Task nr. 1"
   ]
  },
  {
   "cell_type": "code",
   "execution_count": 26,
   "id": "supported-excerpt",
   "metadata": {},
   "outputs": [],
   "source": [
    "import sympy\n",
    "from sympy import sympify, lambdify\n",
    "from sympy.abc import x, y, z\n",
    "import numpy as np\n",
    "import scipy.integrate"
   ]
  },
  {
   "cell_type": "markdown",
   "id": "adolescent-needle",
   "metadata": {},
   "source": [
    "Computing:\n",
    "\n",
    "$$\n",
    "    \\int_0^3{x^{\\frac{3}{2}} \\left(x^3 + x^{\\frac{1}{3}}\\right)}dx\n",
    "$$"
   ]
  },
  {
   "cell_type": "code",
   "execution_count": 2,
   "id": "racial-hobby",
   "metadata": {},
   "outputs": [
    {
     "data": {
      "text/latex": [
       "$\\displaystyle x^{\\frac{3}{2}} \\left(\\sqrt[3]{x} + x^{3}\\right)$"
      ],
      "text/plain": [
       "x**(3/2)*(x**(1/3) + x**3)"
      ]
     },
     "execution_count": 2,
     "metadata": {},
     "output_type": "execute_result"
    }
   ],
   "source": [
    "expr = sympify('x**(3/2) * (x**3 + x**(1/3))')\n",
    "expr"
   ]
  },
  {
   "cell_type": "code",
   "execution_count": 3,
   "id": "vocal-regard",
   "metadata": {},
   "outputs": [
    {
     "data": {
      "text/latex": [
       "$\\displaystyle \\frac{54 \\cdot 3^{\\frac{5}{6}}}{17} + \\frac{486 \\sqrt{3}}{11}$"
      ],
      "text/plain": [
       "54*3**(5/6)/17 + 486*sqrt(3)/11"
      ]
     },
     "execution_count": 3,
     "metadata": {},
     "output_type": "execute_result"
    }
   ],
   "source": [
    "# the symbolic method\n",
    "sympy.integrate(expr, (x, 0, 3))"
   ]
  },
  {
   "cell_type": "code",
   "execution_count": 4,
   "id": "religious-monkey",
   "metadata": {},
   "outputs": [
    {
     "data": {
      "text/latex": [
       "$\\displaystyle 84.46013473$"
      ],
      "text/plain": [
       "84.46013473"
      ]
     },
     "execution_count": 4,
     "metadata": {},
     "output_type": "execute_result"
    }
   ],
   "source": [
    "# \"_\" means the result of the previous operation\n",
    "_.evalf(10)"
   ]
  },
  {
   "cell_type": "code",
   "execution_count": 5,
   "id": "guilty-contrast",
   "metadata": {},
   "outputs": [
    {
     "data": {
      "text/plain": [
       "84.46013366910955"
      ]
     },
     "execution_count": 5,
     "metadata": {},
     "output_type": "execute_result"
    }
   ],
   "source": [
    "f = lambdify(x, expr, 'numpy')\n",
    "# the numeric method\n",
    "# this function returns a tuple where the first element is the result\n",
    "# and the second element is the error\n",
    "scipy.integrate.quadrature(f, 0, 3)[0]"
   ]
  },
  {
   "cell_type": "markdown",
   "id": "automotive-serve",
   "metadata": {},
   "source": [
    "Computing:\n",
    "$$\n",
    "    \\int_0^2{\\frac{y^{\\frac{1}{3}} \\left(y^2 + 2\\right)}{y^{\\frac{3}{2}} + 1}}dy\n",
    "$$"
   ]
  },
  {
   "cell_type": "code",
   "execution_count": 6,
   "id": "golden-freedom",
   "metadata": {},
   "outputs": [
    {
     "data": {
      "text/latex": [
       "$\\displaystyle \\frac{\\sqrt[3]{y} \\left(y^{2} + 2\\right)}{y^{\\frac{3}{2}} + 1}$"
      ],
      "text/plain": [
       "y**(1/3)*(y**2 + 2)/(y**(3/2) + 1)"
      ]
     },
     "execution_count": 6,
     "metadata": {},
     "output_type": "execute_result"
    }
   ],
   "source": [
    "expr = sympify('(y**(1/3) * (y**2 + 2)) / (y**(3/2) + 1)')\n",
    "expr"
   ]
  },
  {
   "cell_type": "code",
   "execution_count": 8,
   "id": "smaller-cancer",
   "metadata": {},
   "outputs": [
    {
     "data": {
      "text/plain": [
       "2.966346820979706"
      ]
     },
     "execution_count": 8,
     "metadata": {},
     "output_type": "execute_result"
    }
   ],
   "source": [
    "f = lambdify(y, expr, 'numpy')\n",
    "scipy.integrate.quadrature(f, 0, 2)[0]"
   ]
  },
  {
   "cell_type": "markdown",
   "id": "cardiac-disaster",
   "metadata": {},
   "source": [
    "### Task nr. 2"
   ]
  },
  {
   "cell_type": "markdown",
   "id": "insured-prague",
   "metadata": {},
   "source": [
    "Computing:\n",
    "\n",
    "$$\n",
    "    \\int_1^3{\\int_1^2{\\left(x + x^\\frac{1}{3} y^\\frac{2}{5}\\right)e^{x + y}}dx}dy\n",
    "$$"
   ]
  },
  {
   "cell_type": "code",
   "execution_count": 10,
   "id": "talented-biography",
   "metadata": {},
   "outputs": [
    {
     "data": {
      "text/latex": [
       "$\\displaystyle \\left(\\sqrt[3]{x} y^{\\frac{2}{5}} + x\\right) e^{x + y}$"
      ],
      "text/plain": [
       "(x**(1/3)*y**(2/5) + x)*exp(x + y)"
      ]
     },
     "execution_count": 10,
     "metadata": {},
     "output_type": "execute_result"
    }
   ],
   "source": [
    "expr = sympify('(x + x**(1/3) * y**(2/5)) * exp(x + y)')\n",
    "expr"
   ]
  },
  {
   "cell_type": "code",
   "execution_count": 23,
   "id": "bright-plumbing",
   "metadata": {},
   "outputs": [
    {
     "data": {
      "text/plain": [
       "315.14628379526084"
      ]
     },
     "execution_count": 23,
     "metadata": {},
     "output_type": "execute_result"
    }
   ],
   "source": [
    "f = lambdify((x, y), expr, 'numpy')\n",
    "# This function again returns a tuple where the first element is the result\n",
    "# and the second element is the error\n",
    "scipy.integrate.dblquad(f, 1, 2, 1, 3)[0]"
   ]
  },
  {
   "cell_type": "markdown",
   "id": "royal-peter",
   "metadata": {},
   "source": [
    "### Task nr. 3\n",
    "\n",
    "Computing: \n",
    "$$\n",
    "    \\int_1^3{\n",
    "        \\int_0^1{\n",
    "            \\int_2^3{\n",
    "                \\left(y + x^\\frac{1}{4} z^\\frac{2}{3}\\right) \\tan\\left(y\\right)\n",
    "            }dx\n",
    "        }dy\n",
    "    }dz\n",
    "$$"
   ]
  },
  {
   "cell_type": "code",
   "execution_count": 24,
   "id": "handmade-australian",
   "metadata": {},
   "outputs": [
    {
     "data": {
      "text/latex": [
       "$\\displaystyle \\left(\\sqrt[4]{x} z^{\\frac{2}{3}} + y\\right) \\tan{\\left(y \\right)}$"
      ],
      "text/plain": [
       "(x**(1/4)*z**(2/3) + y)*tan(y)"
      ]
     },
     "execution_count": 24,
     "metadata": {},
     "output_type": "execute_result"
    }
   ],
   "source": [
    "expr = sympify('(y + x**(1/4) * z**(2/3)) * tan(y)')\n",
    "expr"
   ]
  },
  {
   "cell_type": "code",
   "execution_count": 29,
   "id": "basic-expense",
   "metadata": {},
   "outputs": [
    {
     "data": {
      "text/plain": [
       "3.5268012804168087"
      ]
     },
     "execution_count": 29,
     "metadata": {},
     "output_type": "execute_result"
    }
   ],
   "source": [
    "f = lambdify((x, y, z), expr, 'numpy')\n",
    "scipy.integrate.tplquad(f, 2, 3, 0, 1, 1, 3)[0]"
   ]
  },
  {
   "cell_type": "code",
   "execution_count": null,
   "id": "distant-spending",
   "metadata": {},
   "outputs": [],
   "source": []
  }
 ],
 "metadata": {
  "kernelspec": {
   "display_name": "Python 3",
   "language": "python",
   "name": "python3"
  },
  "language_info": {
   "codemirror_mode": {
    "name": "ipython",
    "version": 3
   },
   "file_extension": ".py",
   "mimetype": "text/x-python",
   "name": "python",
   "nbconvert_exporter": "python",
   "pygments_lexer": "ipython3",
   "version": "3.9.4"
  }
 },
 "nbformat": 4,
 "nbformat_minor": 5
}
