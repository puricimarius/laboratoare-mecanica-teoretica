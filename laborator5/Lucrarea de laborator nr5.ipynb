{
 "cells": [
  {
   "cell_type": "markdown",
   "id": "executed-argument",
   "metadata": {},
   "source": [
    "# Lucrarea de laborator nr. 5\n",
    "\n",
    "##### Varianta 21\n",
    "\n",
    "### Exercițiul I"
   ]
  },
  {
   "cell_type": "code",
   "execution_count": 1,
   "id": "black-greensboro",
   "metadata": {},
   "outputs": [
    {
     "data": {
      "text/latex": [
       "$\\displaystyle t^{3} + 2 t^{2} - 0.5 t$"
      ],
      "text/plain": [
       "t**3 + 2*t**2 - 0.5*t"
      ]
     },
     "execution_count": 1,
     "metadata": {},
     "output_type": "execute_result"
    }
   ],
   "source": [
    "from sympy.abc import t\n",
    "from sympy import diff, pi, cos, lambdify, sqrt, sin\n",
    "from sympy.solvers import solve\n",
    "import numpy as np\n",
    "\n",
    "phi = t**3 + 2*t**2 - 0.5*t\n",
    "phi"
   ]
  },
  {
   "cell_type": "code",
   "execution_count": 2,
   "id": "german-income",
   "metadata": {},
   "outputs": [
    {
     "data": {
      "text/plain": [
       "2.5307274153917776"
      ]
     },
     "execution_count": 2,
     "metadata": {},
     "output_type": "execute_result"
    }
   ],
   "source": [
    "phi1 = 145*np.pi*2/360\n",
    "phi1"
   ]
  },
  {
   "cell_type": "code",
   "execution_count": 3,
   "id": "iraqi-confusion",
   "metadata": {},
   "outputs": [
    {
     "data": {
      "text/plain": [
       "array([-1.50235511+0.5116563j, -1.50235511-0.5116563j,\n",
       "        1.00471021+0.j       ])"
      ]
     },
     "execution_count": 3,
     "metadata": {},
     "output_type": "execute_result"
    }
   ],
   "source": [
    "coeff = [1, 2, -0.5, -phi1]\n",
    "ts = np.roots(coeff)\n",
    "ts"
   ]
  },
  {
   "cell_type": "code",
   "execution_count": 4,
   "id": "labeled-format",
   "metadata": {},
   "outputs": [
    {
     "data": {
      "text/plain": [
       "(1.0047102123673546+0j)"
      ]
     },
     "execution_count": 4,
     "metadata": {},
     "output_type": "execute_result"
    }
   ],
   "source": [
    "# deoarece în array-ul returnat de np.roots primele 2 rădăcini sunt numere complexe,\n",
    "# ts[2] fiind singurul număr real, acesta este momentul de timp pentru care phi_e = phi_1.\n",
    "t1 = ts[2]\n",
    "t1"
   ]
  },
  {
   "cell_type": "code",
   "execution_count": 5,
   "id": "written-pledge",
   "metadata": {},
   "outputs": [
    {
     "data": {
      "text/latex": [
       "$\\displaystyle 3 t^{2} + 4 t - 0.5$"
      ],
      "text/plain": [
       "3*t**2 + 4*t - 0.5"
      ]
     },
     "execution_count": 5,
     "metadata": {},
     "output_type": "execute_result"
    }
   ],
   "source": [
    "# viteza unghiulară este prima derivată a lui phi\n",
    "omega = diff(phi)\n",
    "omega"
   ]
  },
  {
   "cell_type": "code",
   "execution_count": 6,
   "id": "sustainable-teddy",
   "metadata": {},
   "outputs": [
    {
     "data": {
      "text/latex": [
       "$\\displaystyle 6 t + 4$"
      ],
      "text/plain": [
       "6*t + 4"
      ]
     },
     "execution_count": 6,
     "metadata": {},
     "output_type": "execute_result"
    }
   ],
   "source": [
    "# accelerația unghiulară este prima derivată a lui omega\n",
    "epsilon = diff(omega)\n",
    "epsilon"
   ]
  },
  {
   "cell_type": "code",
   "execution_count": 7,
   "id": "strange-boxing",
   "metadata": {},
   "outputs": [],
   "source": [
    "a = 25 #cm\n",
    "OM = a/8\n",
    "r = np.sqrt(a**2 + (a - OM)**2)"
   ]
  },
  {
   "cell_type": "code",
   "execution_count": 8,
   "id": "pointed-psychiatry",
   "metadata": {},
   "outputs": [
    {
     "name": "stdout",
     "output_type": "stream",
     "text": [
      "accelerația tangențială: 333.130873728094 cm/s^2\n"
     ]
    }
   ],
   "source": [
    "# accelerația tangențială\n",
    "a_t = epsilon.subs(t, t1) * r\n",
    "print('accelerația tangențială:', a_t, 'cm/s^2')"
   ]
  },
  {
   "cell_type": "code",
   "execution_count": 9,
   "id": "printable-radiation",
   "metadata": {},
   "outputs": [
    {
     "name": "stdout",
     "output_type": "stream",
     "text": [
      "accelerația normală: 1423.95512815250 cm/s^2\n"
     ]
    }
   ],
   "source": [
    "# accelerația normală\n",
    "a_n = (omega.subs(t, t1))**2 * r\n",
    "print('accelerația normală:', a_n, 'cm/s^2')"
   ]
  },
  {
   "cell_type": "code",
   "execution_count": 10,
   "id": "stuffed-slide",
   "metadata": {},
   "outputs": [
    {
     "name": "stdout",
     "output_type": "stream",
     "text": [
      "accelerația totală: 1462.40363307216 cm/s^2\n"
     ]
    }
   ],
   "source": [
    "# accelerația totală\n",
    "a_tot = (a_t**2 + a_n**2)**(1/2)\n",
    "print('accelerația totală:', a_tot, 'cm/s^2')"
   ]
  },
  {
   "cell_type": "code",
   "execution_count": 11,
   "id": "outer-understanding",
   "metadata": {},
   "outputs": [
    {
     "name": "stdout",
     "output_type": "stream",
     "text": [
      "viteza: 217.491742968644 cm/s\n"
     ]
    }
   ],
   "source": [
    "# Viteza\n",
    "v = omega.subs(t, t1) * r\n",
    "print('viteza:', v, 'cm/s')"
   ]
  },
  {
   "cell_type": "markdown",
   "id": "meaningful-hometown",
   "metadata": {},
   "source": [
    "### Exercițiul II"
   ]
  },
  {
   "cell_type": "code",
   "execution_count": 12,
   "id": "empirical-chance",
   "metadata": {},
   "outputs": [
    {
     "data": {
      "text/latex": [
       "$\\displaystyle 10 \\cos{\\left(2 \\pi t \\right)}$"
      ],
      "text/plain": [
       "10*cos(2*pi*t)"
      ]
     },
     "execution_count": 12,
     "metadata": {},
     "output_type": "execute_result"
    }
   ],
   "source": [
    "expr = 10*cos(2*pi*t)\n",
    "expr"
   ]
  },
  {
   "cell_type": "code",
   "execution_count": 13,
   "id": "breathing-timothy",
   "metadata": {},
   "outputs": [],
   "source": [
    "a = 25\n",
    "phi1 = 145 * 2*np.pi/360\n",
    "r = np.sqrt(a**2 + (a - OM)**2)"
   ]
  },
  {
   "cell_type": "code",
   "execution_count": 14,
   "id": "horizontal-message",
   "metadata": {},
   "outputs": [
    {
     "data": {
      "text/latex": [
       "$\\displaystyle 0.209279400011726$"
      ],
      "text/plain": [
       "0.209279400011726"
      ]
     },
     "execution_count": 14,
     "metadata": {},
     "output_type": "execute_result"
    }
   ],
   "source": [
    "# momentul de timp t1 în care phi_e este egal cu phi_1\n",
    "t1 = solve(expr - phi1, t)[0]\n",
    "t1"
   ]
  },
  {
   "cell_type": "code",
   "execution_count": 15,
   "id": "proprietary-macro",
   "metadata": {},
   "outputs": [
    {
     "data": {
      "text/latex": [
       "$\\displaystyle - 20 \\pi \\sin{\\left(2 \\pi t \\right)}$"
      ],
      "text/plain": [
       "-20*pi*sin(2*pi*t)"
      ]
     },
     "execution_count": 15,
     "metadata": {},
     "output_type": "execute_result"
    }
   ],
   "source": [
    "# viteza unghiulară este prima derivată a lui phi\n",
    "omega = diff(expr)\n",
    "omega"
   ]
  },
  {
   "cell_type": "code",
   "execution_count": 16,
   "id": "acting-party",
   "metadata": {},
   "outputs": [
    {
     "data": {
      "text/latex": [
       "$\\displaystyle - 40 \\pi^{2} \\cos{\\left(2 \\pi t \\right)}$"
      ],
      "text/plain": [
       "-40*pi**2*cos(2*pi*t)"
      ]
     },
     "execution_count": 16,
     "metadata": {},
     "output_type": "execute_result"
    }
   ],
   "source": [
    "# accelerația unghiulară este prima derivată a lui omega\n",
    "epsilon = diff(omega)\n",
    "epsilon"
   ]
  },
  {
   "cell_type": "code",
   "execution_count": 17,
   "id": "lyric-google",
   "metadata": {},
   "outputs": [
    {
     "name": "stdout",
     "output_type": "stream",
     "text": [
      "viteza punctului O al plăcii: -2019.2794 cm/s\n"
     ]
    }
   ],
   "source": [
    "# Viteza\n",
    "v = (omega.subs(t, t1) * r).evalf(8)\n",
    "print('viteza punctului O al plăcii:', v, 'cm/s')"
   ]
  },
  {
   "cell_type": "code",
   "execution_count": 18,
   "id": "junior-saudi",
   "metadata": {},
   "outputs": [
    {
     "name": "stdout",
     "output_type": "stream",
     "text": [
      "accelerația tangențială: -3318.9014 cm/s^2\n",
      "accelerația normală: 122744.93 cm/s^2\n",
      "accelerația totală: 122789.79 cm/s^2\n"
     ]
    }
   ],
   "source": [
    "# accelerația tangențială\n",
    "a_t = epsilon.subs(t, t1) * r\n",
    "print('accelerația tangențială:', a_t.evalf(8), 'cm/s^2')\n",
    "\n",
    "# accelerația normală\n",
    "a_n = (omega.subs(t, t1))**2 * r\n",
    "print('accelerația normală:', a_n.evalf(8), 'cm/s^2')\n",
    "\n",
    "# accelerația totală\n",
    "a_tot = (a_t**2 + a_n**2)**(1/2)\n",
    "print('accelerația totală:', a_tot.evalf(8), 'cm/s^2')"
   ]
  },
  {
   "cell_type": "markdown",
   "id": "assumed-mambo",
   "metadata": {},
   "source": [
    "### Exercițiul III"
   ]
  },
  {
   "cell_type": "code",
   "execution_count": 19,
   "id": "pressed-pulse",
   "metadata": {},
   "outputs": [
    {
     "data": {
      "text/latex": [
       "$\\displaystyle 60 \\sqrt{2} \\sin{\\left(2 \\pi t \\right)}$"
      ],
      "text/plain": [
       "60*sqrt(2)*sin(2*pi*t)"
      ]
     },
     "execution_count": 19,
     "metadata": {},
     "output_type": "execute_result"
    }
   ],
   "source": [
    "# Ecuația mișcării pistonului\n",
    "s = 60 * sqrt(2) * sin(2*pi*t)\n",
    "s"
   ]
  },
  {
   "cell_type": "code",
   "execution_count": 20,
   "id": "brutal-sheriff",
   "metadata": {},
   "outputs": [],
   "source": [
    "t1 = 1 / 12 # s"
   ]
  },
  {
   "cell_type": "code",
   "execution_count": 21,
   "id": "unnecessary-injection",
   "metadata": {},
   "outputs": [
    {
     "data": {
      "text/latex": [
       "$\\displaystyle 120 \\sqrt{2} \\pi \\cos{\\left(2 \\pi t \\right)}$"
      ],
      "text/plain": [
       "120*sqrt(2)*pi*cos(2*pi*t)"
      ]
     },
     "execution_count": 21,
     "metadata": {},
     "output_type": "execute_result"
    }
   ],
   "source": [
    "# viteza este prima derivată a lui s\n",
    "v = diff(s)\n",
    "v"
   ]
  },
  {
   "cell_type": "code",
   "execution_count": 22,
   "id": "outstanding-cradle",
   "metadata": {},
   "outputs": [
    {
     "data": {
      "text/latex": [
       "$\\displaystyle 461.72$"
      ],
      "text/plain": [
       "461.72"
      ]
     },
     "execution_count": 22,
     "metadata": {},
     "output_type": "execute_result"
    }
   ],
   "source": [
    "# viteza pentru timpul de calcul t = t1\n",
    "v.subs(t, t1).evalf(5)"
   ]
  }
 ],
 "metadata": {
  "kernelspec": {
   "display_name": "Python 3",
   "language": "python",
   "name": "python3"
  },
  "language_info": {
   "codemirror_mode": {
    "name": "ipython",
    "version": 3
   },
   "file_extension": ".py",
   "mimetype": "text/x-python",
   "name": "python",
   "nbconvert_exporter": "python",
   "pygments_lexer": "ipython3",
   "version": "3.9.4"
  }
 },
 "nbformat": 4,
 "nbformat_minor": 5
}
